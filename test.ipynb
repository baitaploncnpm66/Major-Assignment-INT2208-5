{
 "cells": [
  {
   "cell_type": "code",
   "execution_count": 1,
   "metadata": {},
   "outputs": [],
   "source": [
    "import json"
   ]
  },
  {
   "cell_type": "code",
   "execution_count": 48,
   "metadata": {},
   "outputs": [
    {
     "data": {
      "text/plain": [
       "dict"
      ]
     },
     "execution_count": 48,
     "metadata": {},
     "output_type": "execute_result"
    }
   ],
   "source": [
    "prod1 = {'Công nghệ màn hình:': 'Dynamic AMOLED 2X', 'Độ phân giải:': 'Chính: QXGA+ (2176 x 1812 Pixels) & Phụ: HD+ (2316 x 904 Pixels)', 'Màn hình rộng:': 'Chính 7.6\" & Phụ 6.2\" - Tần số quét 120 Hz', 'Độ sáng tối đa:': '1750 nits', 'Mặt kính cảm ứng:': 'Chính: Ultra Thin Glass & Phụ: Corning Gorilla Glass Victus 2'}\n",
    "prod1 = str(prod1)\n",
    "prod1 = eval(prod1)\n",
    "type(prod1)"
   ]
  },
  {
   "cell_type": "code",
   "execution_count": 54,
   "metadata": {},
   "outputs": [
    {
     "name": "stdout",
     "output_type": "stream",
     "text": [
      "Zoom quang học\n",
      "Zoom kỹ thuật số\n",
      "Xóa phông\n",
      "Trôi nhanh thời gian (Time Lapse)\n",
      "Toàn cảnh (Panorama)\n",
      "Quay Siêu chậm (Super Slow Motion)\n",
      "Quay chậm (Slow Motion)\n",
      "Làm đẹp\n",
      "Hiệu ứng Bokeh\n",
      "HDR\n",
      "Góc siêu rộng (Ultrawide)\n",
      "Góc rộng (Wide)\n",
      "FlexCam\n",
      "Chống rung quang học (OIS)\n",
      "Chuyên nghiệp (Pro)\n",
      "Bộ lọc màu\n",
      "Ban đêm (Night Mode)\n"
     ]
    }
   ],
   "source": [
    "prod1 = {'Độ phân giải:': 'Chính 50 MP & Phụ 12 MP, 10 MP', 'Quay phim:': 'HD 720p@30fps\\nFullHD 1080p@60fps\\nFullHD 1080p@30fps\\n8K 4320p@30fps\\n4K 2160p@60fps\\n4K 2160p@30fps', 'Đèn Flash:': 'Có', 'Tính năng:': 'Zoom quang học\\nZoom kỹ thuật số\\nXóa phông\\nTrôi nhanh thời gian (Time Lapse)\\nToàn cảnh (Panorama)\\nQuay Siêu chậm (Super Slow Motion)\\nQuay chậm (Slow Motion)\\nLàm đẹp\\nHiệu ứng Bokeh\\nHDR\\nGóc siêu rộng (Ultrawide)\\nGóc rộng (Wide)\\nFlexCam\\nChống rung quang học (OIS)\\nChuyên nghiệp (Pro)\\nBộ lọc màu\\nBan đêm (Night Mode)'}\n",
    "prod1 = str(prod1)\n",
    "prod1 = eval(prod1)\n",
    "prod1 = json.dumps(prod1)\n",
    "prod1 = json.loads(prod1)\n",
    "prod1_tinh_nang = prod1.get('Tính năng:').split('\\n')\n",
    "for feature in prod1_tinh_nang:\n",
    "    print(feature)"
   ]
  },
  {
   "cell_type": "code",
   "execution_count": 55,
   "metadata": {},
   "outputs": [
    {
     "name": "stdout",
     "output_type": "stream",
     "text": [
      "['Ghi', 'âm', 'mặc', 'định Ghi âm cuộc gọi']\n"
     ]
    }
   ],
   "source": [
    "recordings = 'Ghi âm mặc định Ghi âm cuộc gọi'\n",
    "\n",
    "# Phân tích chuỗi thành 2 tính năng dựa trên dấu cách thứ 3\n",
    "recordings_list = recordings.split(' ', 3)\n",
    "\n",
    "# Loại bỏ khoảng trắng ở đầu và cuối mỗi tính năng\n",
    "recordings_list = [recording.strip() for recording in recordings_list]\n",
    "\n",
    "# In ra danh sách các tính năng\n",
    "print(recordings_list)"
   ]
  },
  {
   "cell_type": "code",
   "execution_count": 56,
   "metadata": {},
   "outputs": [
    {
     "name": "stdout",
     "output_type": "stream",
     "text": [
      "2.990.000₫\n"
     ]
    }
   ],
   "source": [
    "from selenium import webdriver\n",
    "from selenium.webdriver.common.by import By\n",
    "from selenium.webdriver.chrome.options import Options\n",
    "from time import sleep\n",
    "\n",
    "\n",
    "def crawl_tgdd(link):\n",
    "    \"\"\"\n",
    "    Thu thập giá của sản phẩm điện thoại di động trên thế giới di động\n",
    "\n",
    "    Parameters:\n",
    "    link (str): Đường link dẫn tới sản phẩm.\n",
    "\n",
    "    Returns:\n",
    "    price (str): Giá của sản phẩm. Nếu price là None thì sản phẩm là Hết hàng hoặc Dừng bán\n",
    "\n",
    "    Ví dụ:\n",
    "    >>> crawl_tgdd(\"https://www.thegioididong.com/dtdd/iphone-15-pro-max\")\n",
    "    29.990.000₫\n",
    "    \"\"\"\n",
    "\n",
    "    # Tạo một đối tượng tùy chọn cho trình duyệt Chrome\n",
    "    chrome_options = Options()\n",
    "    # Thêm tùy chọn \"--headless\" để chạy trình duyệt ở chế độ không có giao diện người dùng,\n",
    "    # nghĩa là không hiển thị cửa sổ trình duyệt lên màn hình\n",
    "    chrome_options.add_argument(\"--headless\")\n",
    "\n",
    "    # Khởi tạo webdriver với tùy chọn trên và truy cập vào đường link sản phẩm\n",
    "    driver = webdriver.Chrome(options=chrome_options)\n",
    "    driver.get(link)\n",
    "    sleep(5)\n",
    "\n",
    "    price = None\n",
    "\n",
    "    # Kiểm tra và lấy giá của sản phẩm\n",
    "    try:\n",
    "        price = driver.find_element(By.XPATH, \"//p[@class='box-price-present']\").text\n",
    "    except:\n",
    "        pass\n",
    "\n",
    "    # Kiểm tra và lấy giá của sản phẩm\n",
    "    try:\n",
    "        price = driver.find_element(By.XPATH, \"//div[@class='bs_price']/strong\").text\n",
    "    except:\n",
    "        pass\n",
    "\n",
    "    # Kiểm tra và lấy giá của sản phẩm\n",
    "    try:\n",
    "        price = driver.find_element(By.XPATH, \"//div[@class='item cf-left']/b/b\").text\n",
    "    except:\n",
    "        pass\n",
    "\n",
    "    # Đóng webdriver\n",
    "    sleep(5)\n",
    "    driver.close()\n",
    "\n",
    "    return price\n",
    "\n",
    "\n",
    "def crawl_fpt(link):\n",
    "    \"\"\"\n",
    "    Thu thập giá của sản phẩm điện thoại di động trên fptshop\n",
    "\n",
    "    Parameters:\n",
    "    link (str): Đường link dẫn tới sản phẩm.\n",
    "\n",
    "    Returns:\n",
    "    price (str): Giá của sản phẩm. Nếu price là None thì sản phẩm là Hết hàng hoặc Dừng bán\n",
    "\n",
    "    Ví dụ:\n",
    "    >>> crawl_tgdd(\"https://fptshop.com.vn/dien-thoai/iphone-15-pro-max\")\n",
    "    29.490.000₫\n",
    "    \"\"\"\n",
    "\n",
    "    # Tạo một đối tượng tùy chọn cho trình duyệt Chrome\n",
    "    chrome_options = Options()\n",
    "    # Thêm tùy chọn \"--headless\" để chạy trình duyệt ở chế độ không có giao diện người dùng,\n",
    "    # nghĩa là không hiển thị cửa sổ trình duyệt lên màn hình\n",
    "    chrome_options.add_argument(\"--headless\")\n",
    "\n",
    "    # Khởi tạo webdriver với tùy chọn trên và truy cập vào đường link sản phẩm\n",
    "    driver = webdriver.Chrome(options=chrome_options)\n",
    "    driver.get(link)\n",
    "    sleep(5)\n",
    "\n",
    "    price = None\n",
    "\n",
    "    # Kiểm tra và lấy giá của sản phẩm\n",
    "    try:\n",
    "        price = driver.find_element(By.XPATH, \"//div[@class='st-price-main']\").text\n",
    "    except:\n",
    "        pass\n",
    "\n",
    "    # Đóng webdriver\n",
    "    sleep(5)\n",
    "    driver.close()\n",
    "\n",
    "    return price\n",
    "\n",
    "\n",
    "def main():\n",
    "\n",
    "    link = \"https://fptshop.com.vn/dien-thoai/xiaomi-redmi-a3\"\n",
    "    if \"thegioididong.com\" in link:\n",
    "        print(crawl_tgdd(link))\n",
    "    elif \"fptshop.com.vn\" in link:\n",
    "        print(crawl_fpt(link))\n",
    "\n",
    "\n",
    "if __name__ == \"__main__\":\n",
    "    main()\n"
   ]
  },
  {
   "cell_type": "code",
   "execution_count": null,
   "metadata": {},
   "outputs": [],
   "source": []
  }
 ],
 "metadata": {
  "kernelspec": {
   "display_name": "Python 3",
   "language": "python",
   "name": "python3"
  },
  "language_info": {
   "codemirror_mode": {
    "name": "ipython",
    "version": 3
   },
   "file_extension": ".py",
   "mimetype": "text/x-python",
   "name": "python",
   "nbconvert_exporter": "python",
   "pygments_lexer": "ipython3",
   "version": "3.10.10"
  }
 },
 "nbformat": 4,
 "nbformat_minor": 2
}
